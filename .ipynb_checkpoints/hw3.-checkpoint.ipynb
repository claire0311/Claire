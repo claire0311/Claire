{
 "cells": [
  {
   "cell_type": "code",
   "execution_count": 2,
   "id": "72ffb028",
   "metadata": {},
   "outputs": [
    {
     "name": "stdout",
     "output_type": "stream",
     "text": [
      "請輸入股票代碼 (例如: 2330):2002\n",
      "寫入成功！\n",
      "寫入成功！\n"
     ]
    }
   ],
   "source": [
    "import requests\n",
    "import json\n",
    "import pandas as pd\n",
    "\n",
    "# 設置請求頭\n",
    "header = {\n",
    "    \"User-Agent\": \"Mozilla/5.0 (Windows NT 10.0; Win64; x64) AppleWebKit/537.36 (KHTML, like Gecko) Chrome/118.0.0.0 Safari/537.36\"\n",
    "}\n",
    "\n",
    "# 獲取用戶輸入的股票代碼\n",
    "stock_code = input(\"請輸入股票代碼 (例如: 2330):\")\n",
    "\n",
    "# 構建URL\n",
    "url = f\"https://www.twse.com.tw/exchangeReport/STOCK_DAY?response=json&date=20231031&stockNo={stock_code}\"\n",
    "\n",
    "# 發送HTTP請求（保留默認SSL證書驗證）\n",
    "response = requests.get(url, headers=header)\n",
    "res_json = response.json()\n",
    "\n",
    "# 提取股票數據\n",
    "data_list = []\n",
    "\n",
    "fields = res_json[\"fields\"]\n",
    "data_list.append(fields)\n",
    "\n",
    "for row in res_json[\"data\"]:\n",
    "    data_list.append(row)\n",
    "\n",
    "# 創建DataFrame\n",
    "df = pd.DataFrame(data_list)\n",
    "\n",
    "# 寫入excel檔\n",
    "try:\n",
    "    df.to_excel(f'stock_{stock_code}.xlsx', index=False)\n",
    "    print(\"寫入成功！\")\n",
    "except Exception as e:\n",
    "    print(\"寫入失败:\", e)\n",
    "\n",
    "# 將數據保存為JSON文件\n",
    "try:\n",
    "    with open(f\"stock_{stock_code}.json\", \"w\", encoding=\"utf-8\") as file:\n",
    "        json.dump(data_list, file, ensure_ascii=False, indent=4)\n",
    "        print(\"寫入成功！\")\n",
    "except Exception as s:\n",
    "    print(\"寫入失败:\", s)\n"
   ]
  },
  {
   "cell_type": "code",
   "execution_count": null,
   "id": "99625e18",
   "metadata": {},
   "outputs": [],
   "source": []
  }
 ],
 "metadata": {
  "kernelspec": {
   "display_name": "Python 3 (ipykernel)",
   "language": "python",
   "name": "python3"
  },
  "language_info": {
   "codemirror_mode": {
    "name": "ipython",
    "version": 3
   },
   "file_extension": ".py",
   "mimetype": "text/x-python",
   "name": "python",
   "nbconvert_exporter": "python",
   "pygments_lexer": "ipython3",
   "version": "3.11.4"
  }
 },
 "nbformat": 4,
 "nbformat_minor": 5
}

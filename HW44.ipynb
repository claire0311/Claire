{
 "cells": [
  {
   "cell_type": "code",
   "execution_count": 1,
   "id": "69295695",
   "metadata": {
    "scrolled": true
   },
   "outputs": [
    {
     "name": "stdout",
     "output_type": "stream",
     "text": [
      "Requirement already satisfied: jieba in c:\\users\\claire\\anaconda3\\lib\\site-packages (0.42.1)\n",
      "Requirement already satisfied: wordcloud in c:\\users\\claire\\anaconda3\\lib\\site-packages (1.9.2)\n",
      "Requirement already satisfied: numpy>=1.6.1 in c:\\users\\claire\\anaconda3\\lib\\site-packages (from wordcloud) (1.24.3)\n",
      "Requirement already satisfied: pillow in c:\\users\\claire\\anaconda3\\lib\\site-packages (from wordcloud) (9.4.0)\n",
      "Requirement already satisfied: matplotlib in c:\\users\\claire\\anaconda3\\lib\\site-packages (from wordcloud) (3.7.1)\n",
      "Requirement already satisfied: contourpy>=1.0.1 in c:\\users\\claire\\anaconda3\\lib\\site-packages (from matplotlib->wordcloud) (1.0.5)\n",
      "Requirement already satisfied: cycler>=0.10 in c:\\users\\claire\\anaconda3\\lib\\site-packages (from matplotlib->wordcloud) (0.11.0)\n",
      "Requirement already satisfied: fonttools>=4.22.0 in c:\\users\\claire\\anaconda3\\lib\\site-packages (from matplotlib->wordcloud) (4.25.0)\n",
      "Requirement already satisfied: kiwisolver>=1.0.1 in c:\\users\\claire\\anaconda3\\lib\\site-packages (from matplotlib->wordcloud) (1.4.4)\n",
      "Requirement already satisfied: packaging>=20.0 in c:\\users\\claire\\anaconda3\\lib\\site-packages (from matplotlib->wordcloud) (23.0)\n",
      "Requirement already satisfied: pyparsing>=2.3.1 in c:\\users\\claire\\anaconda3\\lib\\site-packages (from matplotlib->wordcloud) (3.0.9)\n",
      "Requirement already satisfied: python-dateutil>=2.7 in c:\\users\\claire\\anaconda3\\lib\\site-packages (from matplotlib->wordcloud) (2.8.2)\n",
      "Requirement already satisfied: six>=1.5 in c:\\users\\claire\\anaconda3\\lib\\site-packages (from python-dateutil>=2.7->matplotlib->wordcloud) (1.16.0)\n"
     ]
    },
    {
     "ename": "NameError",
     "evalue": "name 'cleaned_text' is not defined",
     "output_type": "error",
     "traceback": [
      "\u001b[1;31m---------------------------------------------------------------------------\u001b[0m",
      "\u001b[1;31mNameError\u001b[0m                                 Traceback (most recent call last)",
      "Cell \u001b[1;32mIn[1], line 33\u001b[0m\n\u001b[0;32m     26\u001b[0m substitutions \u001b[38;5;241m=\u001b[39m {\n\u001b[0;32m     27\u001b[0m     \u001b[38;5;124mr\u001b[39m\u001b[38;5;124m'\u001b[39m\u001b[38;5;124m[A-Za-z!@#$\u001b[39m\u001b[38;5;124m%\u001b[39m\u001b[38;5;124m^&*()_+\u001b[39m\u001b[38;5;132;01m{}\u001b[39;00m\u001b[38;5;124m[\u001b[39m\u001b[38;5;124m\\\u001b[39m\u001b[38;5;124m]:;\u001b[39m\u001b[38;5;124m\"\u001b[39m\u001b[38;5;130;01m\\'\u001b[39;00m\u001b[38;5;124m<>,.?~\u001b[39m\u001b[38;5;130;01m\\\\\u001b[39;00m\u001b[38;5;124m/\u001b[39m\u001b[38;5;124m\\\u001b[39m\u001b[38;5;124m-|=]\u001b[39m\u001b[38;5;124m'\u001b[39m: \u001b[38;5;124m'\u001b[39m\u001b[38;5;124m'\u001b[39m,  \u001b[38;5;66;03m# 刪除特殊字符\u001b[39;00m\n\u001b[0;32m     28\u001b[0m     \u001b[38;5;124mr\u001b[39m\u001b[38;5;124m'\u001b[39m\u001b[38;5;124m的|和|在|日|月|對|年|或|等|他們|可以|於\u001b[39m\u001b[38;5;124m'\u001b[39m: \u001b[38;5;124m'\u001b[39m\u001b[38;5;124m'\u001b[39m,  \u001b[38;5;66;03m# 刪除指定字符\u001b[39;00m\n\u001b[0;32m     29\u001b[0m     \u001b[38;5;124mr\u001b[39m\u001b[38;5;124m'\u001b[39m\u001b[38;5;124m\\\u001b[39m\u001b[38;5;124ms+\u001b[39m\u001b[38;5;124m'\u001b[39m: \u001b[38;5;124m'\u001b[39m\u001b[38;5;124m'\u001b[39m  \u001b[38;5;66;03m# 刪除多餘的空白\u001b[39;00m\n\u001b[0;32m     30\u001b[0m }\n\u001b[0;32m     32\u001b[0m \u001b[38;5;28;01mfor\u001b[39;00m pattern, repl \u001b[38;5;129;01min\u001b[39;00m substitutions\u001b[38;5;241m.\u001b[39mitems():\n\u001b[1;32m---> 33\u001b[0m     cleaned_text \u001b[38;5;241m=\u001b[39m re\u001b[38;5;241m.\u001b[39msub(pattern, repl, cleaned_text)\n\u001b[0;32m     35\u001b[0m \u001b[38;5;66;03m# 使用自定義的停用詞列表\u001b[39;00m\n\u001b[0;32m     36\u001b[0m stop_words \u001b[38;5;241m=\u001b[39m \u001b[38;5;28mset\u001b[39m([\u001b[38;5;124m\"\u001b[39m\u001b[38;5;124m的\u001b[39m\u001b[38;5;124m\"\u001b[39m, \u001b[38;5;124m\"\u001b[39m\u001b[38;5;124m和\u001b[39m\u001b[38;5;124m\"\u001b[39m, \u001b[38;5;124m\"\u001b[39m\u001b[38;5;124m在\u001b[39m\u001b[38;5;124m\"\u001b[39m, \u001b[38;5;124m\"\u001b[39m\u001b[38;5;124m日\u001b[39m\u001b[38;5;124m\"\u001b[39m, \u001b[38;5;124m\"\u001b[39m\u001b[38;5;124m月\u001b[39m\u001b[38;5;124m\"\u001b[39m, \u001b[38;5;124m\"\u001b[39m\u001b[38;5;124m對\u001b[39m\u001b[38;5;124m\"\u001b[39m, \u001b[38;5;124m\"\u001b[39m\u001b[38;5;124m年\u001b[39m\u001b[38;5;124m\"\u001b[39m, \u001b[38;5;124m\"\u001b[39m\u001b[38;5;124m或\u001b[39m\u001b[38;5;124m\"\u001b[39m, \u001b[38;5;124m\"\u001b[39m\u001b[38;5;124m等\u001b[39m\u001b[38;5;124m\"\u001b[39m, \u001b[38;5;124m\"\u001b[39m\u001b[38;5;124m他們\u001b[39m\u001b[38;5;124m\"\u001b[39m, \u001b[38;5;124m\"\u001b[39m\u001b[38;5;124m可以\u001b[39m\u001b[38;5;124m\"\u001b[39m, \u001b[38;5;124m\"\u001b[39m\u001b[38;5;124m於\u001b[39m\u001b[38;5;124m\"\u001b[39m])\n",
      "\u001b[1;31mNameError\u001b[0m: name 'cleaned_text' is not defined"
     ]
    }
   ],
   "source": [
    "!pip install jieba\n",
    "!pip install wordcloud\n",
    "import requests\n",
    "from bs4 import BeautifulSoup\n",
    "import re\n",
    "import jieba\n",
    "from collections import Counter\n",
    "from wordcloud import WordCloud\n",
    "import matplotlib.pyplot as plt\n",
    "\n",
    "url = \"https://zh.wikipedia.org/zh-tw/%E7%B6%B2%E7%B5%A1%E7%B4%85%E4%BA%BA\"\n",
    "headers = {\n",
    "    \"user-agent\": \"Mozilla/5.0 (Windows NT 10.0; Win64; x64) AppleWebKit/537.36 (KHTML, like Gecko) Chrome/119.0.0.0 Safari/537.36\"\n",
    "}\n",
    "\n",
    "res = requests.get(url, headers=headers)\n",
    "soup = BeautifulSoup(res.text, \"html.parser\")\n",
    "\n",
    "# 抓取內容\n",
    "contents = soup.find_all(\"p\")\n",
    "\n",
    "# 將 ResultSet 轉換為字符\n",
    "text = \",\".join([content.get_text() for content in contents])\n",
    "\n",
    "# 使用正則表達式去除不需要的内容\n",
    "substitutions = {\n",
    "    r'[A-Za-z!@#$%^&*()_+{}[\\]:;\"\\'<>,.?~\\\\/\\-|=]': '',  # 刪除特殊字符\n",
    "    r'的|和|在|日|月|對|年|或|等|他們|可以|於': '',  # 刪除指定字符\n",
    "    r'\\s+': ''  # 刪除多餘的空白\n",
    "}\n",
    "\n",
    "for pattern, repl in substitutions.items():\n",
    "    cleaned_text = re.sub(pattern, repl, cleaned_text)\n",
    "\n",
    "# 使用自定義的停用詞列表\n",
    "stop_words = set([\"的\", \"和\", \"在\", \"日\", \"月\", \"對\", \"年\", \"或\", \"等\", \"他們\", \"可以\", \"於\"])\n",
    "seg_list = jieba.cut(cleaned_text, cut_all=False)\n",
    "words = list(seg_list)\n",
    "filtered_words = [word for word in words if word not in stop_words and re.match('[\\u4e00-\\u9fa50-9]+', word)]\n",
    "\n",
    "# 統計詞頻\n",
    "word_freq = Counter(filtered_words)\n",
    "\n",
    "# 生成文字雲\n",
    "font_path = \"c:\\Windows\\Fonts\\msjh.ttc\"\n",
    "wc = WordCloud(\n",
    "    font_path=font_path,\n",
    "    background_color=\"white\",\n",
    "    max_words=1000,  # 調整最大詞數\n",
    "    width=1200,      # 調整寬度\n",
    "    height=900       # 調整高度\n",
    ")\n",
    "wordcloud = wc.generate_from_frequencies(word_freq)\n",
    "\n",
    "# 顯示文字雲\n",
    "import matplotlib.pyplot as plt\n",
    "from wordcloud import WordCloud\n",
    "\n",
    "# 假設你已經有一個 WordCloud 對象 wordcloud\n",
    "plt.figure(figsize=(10, 10))\n",
    "plt.imshow(wordcloud, interpolation=\"bilinear\", cmap=plt.cm.gray, alpha=0.8)  # 調整顏色和透明度\n",
    "plt.axis(\"off\")\n",
    "plt.show()"
   ]
  },
  {
   "cell_type": "code",
   "execution_count": null,
   "id": "81f07170",
   "metadata": {},
   "outputs": [],
   "source": []
  }
 ],
 "metadata": {
  "kernelspec": {
   "display_name": "Python 3 (ipykernel)",
   "language": "python",
   "name": "python3"
  },
  "language_info": {
   "codemirror_mode": {
    "name": "ipython",
    "version": 3
   },
   "file_extension": ".py",
   "mimetype": "text/x-python",
   "name": "python",
   "nbconvert_exporter": "python",
   "pygments_lexer": "ipython3",
   "version": "3.11.4"
  }
 },
 "nbformat": 4,
 "nbformat_minor": 5
}

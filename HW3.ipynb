{
 "cells": [
  {
   "cell_type": "code",
   "execution_count": 3,
   "id": "69295695",
   "metadata": {
    "scrolled": true
   },
   "outputs": [
    {
     "name": "stdout",
     "output_type": "stream",
     "text": [
      "請輸入股票代碼 (例如: 2330):2330\n",
      "写入成功！\n",
      "写入成功！\n"
     ]
    }
   ],
   "source": [
    "import requests\n",
    "import json\n",
    "import pandas as pd\n",
    "\n",
    "# 设置请求头\n",
    "header = {\n",
    "    \"User-Agent\": \"Mozilla/5.0 (Windows NT 10.0; Win64; x64) AppleWebKit/537.36 (KHTML, like Gecko) Chrome/118.0.0.0 Safari/537.36\"\n",
    "}\n",
    "\n",
    "# 获取用户输入的股票代码\n",
    "stock_code = input(\"請輸入股票代碼 (例如: 2330):\")\n",
    "\n",
    "# 构建URL\n",
    "url = f\"https://www.twse.com.tw/exchangeReport/STOCK_DAY?response=json&date=20231031&stockNo={stock_code}\"\n",
    "\n",
    "# 发送HTTP请求（保留默认SSL证书验证）\n",
    "response = requests.get(url, headers=header)\n",
    "res_json = response.json()\n",
    "\n",
    "# 提取股票数据\n",
    "data_list = []\n",
    "\n",
    "fields = res_json[\"fields\"]\n",
    "data_list.append(fields)\n",
    "\n",
    "for row in res_json[\"data\"]:\n",
    "    data_list.append(row)\n",
    "\n",
    "# 创建DataFrame\n",
    "df = pd.DataFrame(data_list)\n",
    "\n",
    "# 寫入excel檔\n",
    "try:\n",
    "    df.to_excel(f'stock_{stock_code}.xlsx', index=False)\n",
    "    print(\"写入成功！\")\n",
    "except Exception as e:\n",
    "    print(\"写入失败:\", e)\n",
    "\n",
    "# 将数据保存为JSON文件\n",
    "try:\n",
    "    with open(f\"stock_{stock_code}.json\", \"w\", encoding=\"utf-8\") as file:\n",
    "        json.dump(data_list, file, ensure_ascii=False, indent=4)\n",
    "        print(\"写入成功！\")\n",
    "except Exception as s:\n",
    "    print(\"写入失败:\", s)"
   ]
  },
  {
   "cell_type": "code",
   "execution_count": null,
   "id": "81f07170",
   "metadata": {},
   "outputs": [],
   "source": []
  }
 ],
 "metadata": {
  "kernelspec": {
   "display_name": "Python 3 (ipykernel)",
   "language": "python",
   "name": "python3"
  },
  "language_info": {
   "codemirror_mode": {
    "name": "ipython",
    "version": 3
   },
   "file_extension": ".py",
   "mimetype": "text/x-python",
   "name": "python",
   "nbconvert_exporter": "python",
   "pygments_lexer": "ipython3",
   "version": "3.11.4"
  }
 },
 "nbformat": 4,
 "nbformat_minor": 5
}
